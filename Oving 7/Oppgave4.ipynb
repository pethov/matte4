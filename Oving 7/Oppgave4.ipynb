{
 "cells": [
  {
   "cell_type": "markdown",
   "id": "5bbaba07",
   "metadata": {},
   "source": [
    "## A\n",
    "Butcher tableau:\n",
    "\n",
    "$\\begin{array}{c|cc}\n",
    "0   & 0   & 0 \\\\\n",
    "\\frac{1}{2} & \\frac{1}{2} & 0 \\\\\n",
    "\\hline\n",
    "    & 0 & 1\n",
    "\\end{array}$\n",
    "\n",
    "\n"
   ]
  },
  {
   "cell_type": "code",
   "execution_count": 2,
   "id": "aa87a81a",
   "metadata": {},
   "outputs": [
    {
     "name": "stdout",
     "output_type": "stream",
     "text": [
      "Midpoint method with h=0.01, steps= 100 :\n",
      "y(1)=1.2698668892\n"
     ]
    }
   ],
   "source": [
    "# B\n",
    "\n",
    "import numpy as np\n",
    "import matplotlib.pyplot as plt\n",
    "\n",
    "def f(t,y):\n",
    "    return np.exp(-y*y)\n",
    "\n",
    "\n",
    "def midpoint(f,t0,y0,h,n_steps):\n",
    "    t=t0\n",
    "    y=y0\n",
    "    ts=[t]\n",
    "    ys=[y]\n",
    "    for _ in range(n_steps):\n",
    "        k1=f(t,y)\n",
    "        y=y+h*f(t+0.5*h,y+0.5*h*k1)\n",
    "        t=t+h\n",
    "        ts.append(t)\n",
    "        ys.append(y)\n",
    "    return np.array(ts),np.array(ys)\n",
    "\n",
    "\n",
    "t0=0\n",
    "y0=1\n",
    "h=0.01\n",
    "N= int((1-t0)/h)\n",
    "\n",
    "ts,ys=midpoint(f,t0,y0,h,N)\n",
    "y_at_1=ys[-1]\n",
    "\n",
    "print(f\"Midpoint method with h={h}, steps= {N} :\")\n",
    "print(f\"y(1)={y_at_1:.10f}\")"
   ]
  }
 ],
 "metadata": {
  "kernelspec": {
   "display_name": "Python 3",
   "language": "python",
   "name": "python3"
  },
  "language_info": {
   "codemirror_mode": {
    "name": "ipython",
    "version": 3
   },
   "file_extension": ".py",
   "mimetype": "text/x-python",
   "name": "python",
   "nbconvert_exporter": "python",
   "pygments_lexer": "ipython3",
   "version": "3.13.7"
  }
 },
 "nbformat": 4,
 "nbformat_minor": 5
}
